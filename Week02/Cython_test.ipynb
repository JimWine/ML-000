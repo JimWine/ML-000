{
  "nbformat": 4,
  "nbformat_minor": 0,
  "metadata": {
    "colab": {
      "name": "Cython_test.ipynb",
      "provenance": [],
      "collapsed_sections": []
    },
    "kernelspec": {
      "name": "python3",
      "display_name": "Python 3"
    }
  },
  "cells": [
    {
      "cell_type": "markdown",
      "metadata": {
        "id": "YUGGqWyT3yC5"
      },
      "source": [
        "# **Python - Original Code**"
      ]
    },
    {
      "cell_type": "code",
      "metadata": {
        "id": "gH-AxiYR11Tp"
      },
      "source": [
        "import numpy as np\r\n",
        "import pandas as pd\r\n",
        "\r\n",
        "y = np.random.randint(2, size=(5000, 1))\r\n",
        "x = np.random.randint(10, size=(5000, 1))\r\n",
        "data = pd.DataFrame(np.concatenate([y, x], axis=1), columns=['y', 'x'])"
      ],
      "execution_count": 54,
      "outputs": []
    },
    {
      "cell_type": "code",
      "metadata": {
        "id": "Y4a5hw9v4nel"
      },
      "source": [
        "def target_mean_v1(data, y_name, x_name):\r\n",
        "  result = np.zeros(data.shape[0])\r\n",
        "  for i in range(data.shape[0]):\r\n",
        "    groupby_result = data[data.index != i].groupby([x_name], as_index=False).agg(['mean', 'count'])\r\n",
        "    result[i] = groupby_result.loc[groupby_result.index == data.loc[i, x_name], (y_name, 'mean')]\r\n",
        "  return result"
      ],
      "execution_count": 55,
      "outputs": []
    },
    {
      "cell_type": "code",
      "metadata": {
        "id": "alnuVTR04tha"
      },
      "source": [
        "def target_mean_v2(data, y_name, x_name):\r\n",
        "  result = np.zeros(data.shape[0])\r\n",
        "  value_dict = dict()\r\n",
        "  count_dict = dict()\r\n",
        "  for i in range(data.shape[0]):\r\n",
        "    if data.loc[i, x_name] not in value_dict.keys():\r\n",
        "      value_dict[data.loc[i, x_name]] = data.loc[i, y_name]\r\n",
        "      count_dict[data.loc[i, x_name]] = 1\r\n",
        "    else:\r\n",
        "      value_dict[data.loc[i, x_name]] += data.loc[i, y_name]\r\n",
        "      count_dict[data.loc[i, x_name]] += 1\r\n",
        "  for i in range(data.shape[0]):\r\n",
        "    result[i] = (value_dict[data.loc[i, x_name]] - data.loc[i, y_name]) / (count_dict[data.loc[i, x_name]] - 1)\r\n",
        "  return result"
      ],
      "execution_count": 56,
      "outputs": []
    },
    {
      "cell_type": "code",
      "metadata": {
        "colab": {
          "base_uri": "https://localhost:8080/"
        },
        "id": "0sA4SNU-4wne",
        "outputId": "1e49b224-56d3-4963-dd62-f99585e910de"
      },
      "source": [
        "%%timeit\r\n",
        "result_1 = target_mean_v1(data, 'y', 'x')"
      ],
      "execution_count": 57,
      "outputs": [
        {
          "output_type": "stream",
          "text": [
            "1 loop, best of 3: 27.1 s per loop\n"
          ],
          "name": "stdout"
        }
      ]
    },
    {
      "cell_type": "code",
      "metadata": {
        "colab": {
          "base_uri": "https://localhost:8080/"
        },
        "id": "5dADt0y16LQ1",
        "outputId": "e5a1fe0e-e805-4450-a227-d44fb786b9a8"
      },
      "source": [
        "%%timeit\r\n",
        "result_2 = target_mean_v2(data, 'y', 'x')"
      ],
      "execution_count": 66,
      "outputs": [
        {
          "output_type": "stream",
          "text": [
            "1 loop, best of 3: 281 ms per loop\n"
          ],
          "name": "stdout"
        }
      ]
    },
    {
      "cell_type": "code",
      "metadata": {
        "colab": {
          "base_uri": "https://localhost:8080/"
        },
        "id": "ar1hIgqu5Wqk",
        "outputId": "040811c9-7c25-45c8-ca19-5ecb47a710d5"
      },
      "source": [
        "diff = np.linalg.norm(result_1 - result_2)\r\n",
        "print(diff)"
      ],
      "execution_count": 59,
      "outputs": [
        {
          "output_type": "stream",
          "text": [
            "0.0\n"
          ],
          "name": "stdout"
        }
      ]
    },
    {
      "cell_type": "markdown",
      "metadata": {
        "id": "EEg6u3pI7DLV"
      },
      "source": [
        "# **Cython-Improved Code**"
      ]
    },
    {
      "cell_type": "code",
      "metadata": {
        "id": "KNuImVYh74Cg"
      },
      "source": [
        "%load_ext Cython"
      ],
      "execution_count": null,
      "outputs": []
    },
    {
      "cell_type": "code",
      "metadata": {
        "id": "hEOf-GBx8cKG"
      },
      "source": [
        "%%cython\r\n",
        "\r\n",
        "import cython\r\n",
        "import pandas as pd\r\n",
        "import numpy as np\r\n",
        "cimport numpy as cnp\r\n",
        "\r\n",
        "@cython.boundscheck(False)\r\n",
        "@cython.wraparound(False)\r\n",
        "cpdef cnp.ndarray[double] target_mean_c1(cnp.ndarray[int,ndim=2] data):\r\n",
        "  cdef cnp.ndarray[int] x = data[:,1]\r\n",
        "  cdef cnp.ndarray[int] y = data[:,0]\r\n",
        "  cdef int data_shape = data.shape[0]\r\n",
        "  cdef cnp.ndarray[double] result = np.zeros(data_shape)\r\n",
        "  cdef cnp.ndarray[int] dict_value = np.zeros(data_shape).astype(np.intc)\r\n",
        "  cdef cnp.ndarray[int] dict_count = np.zeros(data_shape).astype(np.intc)\r\n",
        "  cdef int i\r\n",
        "  for i in range(data_shape):\r\n",
        "    dict_value[x[i]] += y[i]\r\n",
        "    dict_count[x[i]] += 1\r\n",
        "  for i in range(data_shape):\r\n",
        "    result[i] = (dict_value[x[i]] - y[i]) / (dict_count[x[i]] - 1)\r\n",
        "  return result"
      ],
      "execution_count": 74,
      "outputs": []
    },
    {
      "cell_type": "code",
      "metadata": {
        "colab": {
          "base_uri": "https://localhost:8080/"
        },
        "id": "peLvbnjfCXpH",
        "outputId": "f13bde6a-0582-4c4b-a0c3-b35c20619685"
      },
      "source": [
        "%%timeit\r\n",
        "result_c1 = target_mean_c1(data.values.astype(np.intc))"
      ],
      "execution_count": 76,
      "outputs": [
        {
          "output_type": "stream",
          "text": [
            "The slowest run took 16.45 times longer than the fastest. This could mean that an intermediate result is being cached.\n",
            "10000 loops, best of 3: 42.7 µs per loop\n"
          ],
          "name": "stdout"
        }
      ]
    }
  ]
}